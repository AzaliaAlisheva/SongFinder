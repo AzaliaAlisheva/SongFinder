{
 "cells": [
  {
   "cell_type": "code",
   "execution_count": 1,
   "id": "4a884759",
   "metadata": {},
   "outputs": [
    {
     "name": "stderr",
     "output_type": "stream",
     "text": [
      "c:\\Users\\Mi\\AppData\\Local\\Programs\\Python\\Python311\\Lib\\site-packages\\tqdm\\auto.py:21: TqdmWarning: IProgress not found. Please update jupyter and ipywidgets. See https://ipywidgets.readthedocs.io/en/stable/user_install.html\n",
      "  from .autonotebook import tqdm as notebook_tqdm\n"
     ]
    }
   ],
   "source": [
    "import kagglehub\n",
    "\n",
    "import matplotlib.pyplot as plt\n",
    "\n",
    "import pandas as pd \n",
    "\n",
    "import re\n",
    "from nltk.corpus import stopwords\n",
    "import nltk\n",
    "\n",
    "from nltk.stem import WordNetLemmatizer\n",
    "from natasha import (\n",
    "    MorphVocab,\n",
    "    Segmenter,\n",
    "    NewsEmbedding,\n",
    "    NewsMorphTagger,\n",
    "    Doc\n",
    ")\n",
    "\n",
    "from sentence_transformers import SentenceTransformer\n",
    "import numpy as np\n",
    "\n",
    "from openvino.runtime import Core\n",
    "import openvino as ov\n",
    "import torch"
   ]
  },
  {
   "cell_type": "code",
   "execution_count": 2,
   "id": "cacb5262",
   "metadata": {},
   "outputs": [],
   "source": [
    "path = kagglehub.dataset_download(\"carlosgdcj/genius-song-lyrics-with-language-information\"\n",
    ")"
   ]
  },
  {
   "cell_type": "code",
   "execution_count": 3,
   "id": "fb4dc271",
   "metadata": {},
   "outputs": [],
   "source": [
    "cols = ['title', 'tag', 'artist', 'year', 'views', 'lyrics', 'language']\n",
    "by_views = []\n",
    "en_num = 0\n",
    "ru_num = 0\n",
    "\n",
    "for chunk in pd.read_csv(path + '\\\\song_lyrics.csv', chunksize=100000, usecols=cols):\n",
    "    filtered_chunk = chunk[chunk['language'].isin(['en', 'ru'])]\n",
    "    by_views.append(filtered_chunk.groupby('views').size())\n",
    "\n",
    "    en_num += filtered_chunk[filtered_chunk.language == 'en'].shape[0]\n",
    "    ru_num += filtered_chunk[filtered_chunk.language == 'ru'].shape[0]"
   ]
  },
  {
   "cell_type": "code",
   "execution_count": 4,
   "id": "10fef989",
   "metadata": {},
   "outputs": [
    {
     "data": {
      "image/png": "[encoded data removed]",
      "text/plain": [
       "<Figure size 640x480 with 1 Axes>"
      ]
     },
     "metadata": {},
     "output_type": "display_data"
    }
   ],
   "source": [
    "plt.pie([en_num, ru_num], labels=[\"en\", \"ru\"], autopct='%1.1f%%')\n",
    "plt.title(\"The proportion of english and russian songs in original dataset\")\n",
    "plt.show()"
   ]
  },
  {
   "cell_type": "code",
   "execution_count": 5,
   "id": "44fae985",
   "metadata": {},
   "outputs": [
    {
     "data": {
      "text/html": [
       "<div>\n",
       "<style scoped>\n",
       "    .dataframe tbody tr th:only-of-type {\n",
       "        vertical-align: middle;\n",
       "    }\n",
       "\n",
       "    .dataframe tbody tr th {\n",
       "        vertical-align: top;\n",
       "    }\n",
       "\n",
       "    .dataframe thead th {\n",
       "        text-align: right;\n",
       "    }\n",
       "</style>\n",
       "<table border=\"1\" class=\"dataframe\">\n",
       "  <thead>\n",
       "    <tr style=\"text-align: right;\">\n",
       "      <th></th>\n",
       "      <th>views</th>\n",
       "      <th>cnt</th>\n",
       "      <th>cmsm</th>\n",
       "    </tr>\n",
       "  </thead>\n",
       "  <tbody>\n",
       "    <tr>\n",
       "      <th>51695</th>\n",
       "      <td>23773</td>\n",
       "      <td>4</td>\n",
       "      <td>70001</td>\n",
       "    </tr>\n",
       "    <tr>\n",
       "      <th>51696</th>\n",
       "      <td>23772</td>\n",
       "      <td>1</td>\n",
       "      <td>70002</td>\n",
       "    </tr>\n",
       "    <tr>\n",
       "      <th>51697</th>\n",
       "      <td>23771</td>\n",
       "      <td>5</td>\n",
       "      <td>70007</td>\n",
       "    </tr>\n",
       "    <tr>\n",
       "      <th>51698</th>\n",
       "      <td>23770</td>\n",
       "      <td>5</td>\n",
       "      <td>70012</td>\n",
       "    </tr>\n",
       "    <tr>\n",
       "      <th>51699</th>\n",
       "      <td>23769</td>\n",
       "      <td>3</td>\n",
       "      <td>70015</td>\n",
       "    </tr>\n",
       "    <tr>\n",
       "      <th>...</th>\n",
       "      <td>...</td>\n",
       "      <td>...</td>\n",
       "      <td>...</td>\n",
       "    </tr>\n",
       "    <tr>\n",
       "      <th>75088</th>\n",
       "      <td>4</td>\n",
       "      <td>57681</td>\n",
       "      <td>3405800</td>\n",
       "    </tr>\n",
       "    <tr>\n",
       "      <th>75089</th>\n",
       "      <td>3</td>\n",
       "      <td>56109</td>\n",
       "      <td>3461909</td>\n",
       "    </tr>\n",
       "    <tr>\n",
       "      <th>75090</th>\n",
       "      <td>2</td>\n",
       "      <td>47497</td>\n",
       "      <td>3509406</td>\n",
       "    </tr>\n",
       "    <tr>\n",
       "      <th>75091</th>\n",
       "      <td>1</td>\n",
       "      <td>25926</td>\n",
       "      <td>3535332</td>\n",
       "    </tr>\n",
       "    <tr>\n",
       "      <th>75092</th>\n",
       "      <td>0</td>\n",
       "      <td>4910</td>\n",
       "      <td>3540242</td>\n",
       "    </tr>\n",
       "  </tbody>\n",
       "</table>\n",
       "<p>23398 rows × 3 columns</p>\n",
       "</div>"
      ],
      "text/plain": [
       "       views    cnt     cmsm\n",
       "51695  23773      4    70001\n",
       "51696  23772      1    70002\n",
       "51697  23771      5    70007\n",
       "51698  23770      5    70012\n",
       "51699  23769      3    70015\n",
       "...      ...    ...      ...\n",
       "75088      4  57681  3405800\n",
       "75089      3  56109  3461909\n",
       "75090      2  47497  3509406\n",
       "75091      1  25926  3535332\n",
       "75092      0   4910  3540242\n",
       "\n",
       "[23398 rows x 3 columns]"
      ]
     },
     "execution_count": 5,
     "metadata": {},
     "output_type": "execute_result"
    }
   ],
   "source": [
    "views_df = pd.concat(by_views).groupby(level=0).sum()\n",
    "views_df = views_df[::-1].reset_index(name=\"cnt\")\n",
    "views_df[\"cmsm\"] = views_df.cnt.cumsum()\n",
    "views_df[views_df.cmsm >= 70000]"
   ]
  },
  {
   "cell_type": "markdown",
   "id": "96a9eb52",
   "metadata": {},
   "source": [
    "**Top 70000 songs by views have at least 23773 views**"
   ]
  },
  {
   "cell_type": "code",
   "execution_count": 5,
   "id": "a8069e49",
   "metadata": {},
   "outputs": [],
   "source": [
    "all = []\n",
    "\n",
    "for chunk in pd.read_csv(path + '\\\\song_lyrics.csv', chunksize=100000, usecols=cols):\n",
    "    filtered_chunk = chunk[(chunk['language'].isin(['en', 'ru'])) & (chunk.views >= 23773)]\n",
    "    all.append(filtered_chunk)"
   ]
  },
  {
   "cell_type": "code",
   "execution_count": 10,
   "id": "0366dffb",
   "metadata": {},
   "outputs": [],
   "source": [
    "all_df = pd.concat(all).reset_index(drop=True)"
   ]
  },
  {
   "cell_type": "code",
   "execution_count": 11,
   "id": "aecaf494",
   "metadata": {},
   "outputs": [
    {
     "data": {
      "image/png": "[encoded data removed]",
      "text/plain": [
       "<Figure size 640x480 with 1 Axes>"
      ]
     },
     "metadata": {},
     "output_type": "display_data"
    }
   ],
   "source": [
    "value_counts = all_df.language.value_counts()\n",
    "plt.pie(value_counts, labels = value_counts.index, autopct='%1.1f%%')\n",
    "plt.title(\"The proportion of english and russian songs in collected dataset\")\n",
    "plt.show()"
   ]
  },
  {
   "cell_type": "code",
   "execution_count": 9,
   "id": "22696506",
   "metadata": {},
   "outputs": [
    {
     "data": {
      "image/png": "[encoded data removed]",
      "text/plain": [
       "<Figure size 640x480 with 1 Axes>"
      ]
     },
     "metadata": {},
     "output_type": "display_data"
    }
   ],
   "source": [
    "value_counts = all_df.tag.value_counts()\n",
    "plt.pie(value_counts, labels = value_counts.index, autopct='%1.1f%%')\n",
    "plt.title(\"The proportion of each genre songs in collected dataset\")\n",
    "plt.show()"
   ]
  },
  {
   "cell_type": "markdown",
   "id": "0cb3ef35",
   "metadata": {},
   "source": [
    "We won't stratify the data because for our goal the popularity of the song is the critical factor."
   ]
  },
  {
   "cell_type": "code",
   "execution_count": 12,
   "id": "03873a81",
   "metadata": {},
   "outputs": [],
   "source": [
    "all_df.to_csv('popular_songs.csv', index=False)"
   ]
  },
  {
   "cell_type": "markdown",
   "id": "c8221a59",
   "metadata": {},
   "source": [
    "# Preprocessing"
   ]
  },
  {
   "cell_type": "code",
   "execution_count": 11,
   "id": "0f2a2558",
   "metadata": {},
   "outputs": [],
   "source": [
    "popular_songs = pd.read_csv('popular_songs.csv')"
   ]
  },
  {
   "cell_type": "code",
   "execution_count": 8,
   "id": "8c510445",
   "metadata": {},
   "outputs": [
    {
     "name": "stderr",
     "output_type": "stream",
     "text": [
      "[nltk_data] Downloading package stopwords to\n",
      "[nltk_data]     C:\\Users\\Mi\\AppData\\Roaming\\nltk_data...\n",
      "[nltk_data]   Package stopwords is already up-to-date!\n",
      "[nltk_data] Downloading package wordnet to\n",
      "[nltk_data]     C:\\Users\\Mi\\AppData\\Roaming\\nltk_data...\n",
      "[nltk_data]   Package wordnet is already up-to-date!\n"
     ]
    }
   ],
   "source": [
    "lemmatizer = WordNetLemmatizer()\n",
    "nltk.download('stopwords')\n",
    "nltk.download('wordnet')\n",
    "\n",
    "stopwords_ru = set(stopwords.words('russian'))\n",
    "stopwords_en = set(stopwords.words('english'))\n",
    "\n",
    "# Natasha components\n",
    "segmenter = Segmenter()\n",
    "morph_vocab = MorphVocab()\n",
    "emb = NewsEmbedding()\n",
    "morph_tagger = NewsMorphTagger(emb)"
   ]
  },
  {
   "cell_type": "code",
   "execution_count": 9,
   "id": "7773cf58",
   "metadata": {},
   "outputs": [],
   "source": [
    "def remove_nested_brackets(text):\n",
    "    while True:\n",
    "        new_text = re.sub(r'\\[[^\\[\\]]*\\]', '', text)\n",
    "        if new_text == text:\n",
    "            break\n",
    "        text = new_text\n",
    "    return text\n",
    "\n",
    "def preprocess_lyrics(lyrics, language):\n",
    "    lyrics = lyrics.lower()\n",
    "    lyrics = remove_nested_brackets(lyrics)\n",
    "    \n",
    "    if language == 'russian':\n",
    "        doc = Doc(lyrics)\n",
    "        doc.segment(segmenter)\n",
    "        doc.tag_morph(morph_tagger)\n",
    "\n",
    "        processed_tokens = []\n",
    "        for token in doc.tokens:\n",
    "            token.lemmatize(morph_vocab)\n",
    "            lemma = token.lemma.lower()\n",
    "            \n",
    "            if (lemma not in stopwords_ru and \n",
    "                len(lemma) > 2):\n",
    "                processed_tokens.append(lemma)\n",
    "\n",
    "    else :\n",
    "        tokens = re.findall(r\"\\b[\\w']+\\b\", lyrics)\n",
    "        lemmatized_tokens = [\n",
    "            lemmatizer.lemmatize(token) for token in tokens if token not in stopwords_en and len(token) > 2\n",
    "        ]\n",
    "\n",
    "    return \" \".join(lemmatized_tokens)\n",
    "\n",
    "preprocessed_lyrics = popular_songs.copy()\n",
    "preprocessed_lyrics[\"preprocessed_lyrics\"] = popular_songs.apply(lambda x: preprocess_lyrics(x[\"lyrics\"], x[\"language\"]), axis=1)\n",
    "preprocessed_lyrics.to_csv(\"preprocessed_lyrics.csv\", index=False)"
   ]
  },
  {
   "cell_type": "markdown",
   "id": "47d6a04a",
   "metadata": {},
   "source": [
    "# Create embeddings"
   ]
  },
  {
   "cell_type": "code",
   "execution_count": 3,
   "id": "0efdf49d",
   "metadata": {},
   "outputs": [],
   "source": [
    "model = SentenceTransformer('all-MiniLM-L6-v2')"
   ]
  },
  {
   "cell_type": "markdown",
   "id": "9c1a5dbf",
   "metadata": {},
   "source": [
    "## Embeddings of unprocessed text"
   ]
  },
  {
   "cell_type": "code",
   "execution_count": 53,
   "id": "e75c06e6",
   "metadata": {},
   "outputs": [],
   "source": [
    "combined_texts = popular_songs.apply(\n",
    "    lambda row: f\"Artist: {row['artist']}. Genre: {row['tag']}. Year: {row['year']}. Language: {row['language']}. Lyrics: {row['lyrics']}\",\n",
    "    axis=1\n",
    ")"
   ]
  },
  {
   "cell_type": "code",
   "execution_count": null,
   "id": "c46bcdb9",
   "metadata": {},
   "outputs": [
    {
     "name": "stderr",
     "output_type": "stream",
     "text": [
      "Batches: 100%|██████████| 2188/2188 [1:38:50<00:00,  2.71s/it]    \n"
     ]
    }
   ],
   "source": [
    "embeddings = model.encode(\n",
    "    combined_texts.tolist(),\n",
    "    convert_to_tensor=False,\n",
    "    show_progress_bar=True\n",
    ")"
   ]
  },
  {
   "cell_type": "code",
   "execution_count": 56,
   "id": "3faaa877",
   "metadata": {},
   "outputs": [],
   "source": [
    "np.save('unprocessed_embeddings.npy', embeddings)"
   ]
  },
  {
   "cell_type": "markdown",
   "id": "ca320ef9",
   "metadata": {},
   "source": [
    "## Embeddings of processed text"
   ]
  },
  {
   "cell_type": "code",
   "execution_count": 4,
   "id": "85517dab",
   "metadata": {},
   "outputs": [],
   "source": [
    "preprocessed_lyrics = pd.read_csv('preprocessed_lyrics.csv')"
   ]
  },
  {
   "cell_type": "code",
   "execution_count": 5,
   "id": "dc1175cd",
   "metadata": {},
   "outputs": [],
   "source": [
    "combined_processed_texts = preprocessed_lyrics.apply(\n",
    "    lambda row: f\"Artist: {row['artist']}. Genre: {row['tag']}. Year: {row['year']}. Language: {row['language']}. Lyrics: {row['preprocessed_lyrics']}\",\n",
    "    axis=1\n",
    ")"
   ]
  },
  {
   "cell_type": "code",
   "execution_count": 6,
   "id": "3d3ba33d",
   "metadata": {},
   "outputs": [
    {
     "name": "stderr",
     "output_type": "stream",
     "text": [
      "Batches: 100%|██████████| 2188/2188 [46:38<00:00,  1.28s/it]    \n"
     ]
    }
   ],
   "source": [
    "processed_embeddings = model.encode(\n",
    "    combined_processed_texts.tolist(),\n",
    "    convert_to_tensor=False,\n",
    "    show_progress_bar=True\n",
    ")"
   ]
  },
  {
   "cell_type": "code",
   "execution_count": 7,
   "id": "ee52af9c",
   "metadata": {},
   "outputs": [],
   "source": [
    "np.save('processed_embeddings.npy', processed_embeddings)"
   ]
  },
  {
   "cell_type": "markdown",
   "id": "43d7c996",
   "metadata": {},
   "source": [
    "## How to access"
   ]
  },
  {
   "cell_type": "code",
   "execution_count": 8,
   "id": "7cf8c856",
   "metadata": {},
   "outputs": [],
   "source": [
    "unprocessed_embeddings = np.load('unprocessed_embeddings.npy')"
   ]
  },
  {
   "cell_type": "markdown",
   "id": "69f1c14d",
   "metadata": {},
   "source": [
    "# FAISS"
   ]
  },
  {
   "cell_type": "code",
   "execution_count": 27,
   "id": "73e19b43",
   "metadata": {},
   "outputs": [],
   "source": [
    "import faiss\n",
    "\n",
    "d_original = processed_embeddings.shape[1]\n",
    "d_reduced = 128\n",
    "n_samples = processed_embeddings.shape[0]\n",
    "\n",
    "pca = faiss.PCAMatrix(d_original, d_reduced)\n",
    "pca.train(processed_embeddings)\n",
    "\n",
    "data_pca_processed = pca.apply_py(processed_embeddings)\n",
    "\n",
    "pca.train(unprocessed_embeddings)\n",
    "\n",
    "data_pca_unprocessed = pca.apply_py(unprocessed_embeddings)\n",
    "\n",
    "\n",
    "# index = faiss.IndexFlatL2(d_reduced)\n",
    "# index.add(data_pca)\n",
    "\n",
    "# user_query = \"I'm a bad guy\"\n",
    "# query_embedding = model.encode([user_query], convert_to_tensor=False)\n",
    "# query_pca = pca.apply_py(query_embedding)\n",
    "# D, I = index.search(query_pca, k=5)\n",
    "\n",
    "# print(\"Nearest neighbors:\", I)\n",
    "# print(\"Distances:\", D)"
   ]
  },
  {
   "cell_type": "code",
   "execution_count": 28,
   "id": "734e5bb6",
   "metadata": {},
   "outputs": [],
   "source": [
    "np.save('processed_embeddings_short.npy', data_pca_processed)"
   ]
  },
  {
   "cell_type": "code",
   "execution_count": 29,
   "id": "e85531b5",
   "metadata": {},
   "outputs": [],
   "source": [
    "np.save('unprocessed_embeddings_short.npy', data_pca_unprocessed)"
   ]
  },
  {
   "cell_type": "markdown",
   "id": "c368f553",
   "metadata": {},
   "source": [
    "# Cosine similarity"
   ]
  },
  {
   "cell_type": "code",
   "execution_count": null,
   "id": "454deceb",
   "metadata": {},
   "outputs": [],
   "source": [
    "user_query = \"I'm a bad guy\"\n",
    "query_embedding = model.encode([user_query], convert_to_tensor=False)"
   ]
  },
  {
   "cell_type": "code",
   "execution_count": 22,
   "id": "0cc4b19c",
   "metadata": {},
   "outputs": [
    {
     "name": "stdout",
     "output_type": "stream",
     "text": [
      "Best match: title                                                 All Bad\n",
      "tag                                                        rb\n",
      "artist                                          Justin Bieber\n",
      "year                                                     2013\n",
      "views                                                  119158\n",
      "lyrics      [Verse 1]\\nIt's another, if it ain't one thing...\n",
      "language                                                   en\n",
      "Name: 17473, dtype: object\n"
     ]
    }
   ],
   "source": [
    "from sklearn.metrics.pairwise import cosine_similarity\n",
    "\n",
    "similarities = cosine_similarity(query_embedding, processed_embeddings)\n",
    "best_match_idx = similarities.argmax()  # Index of most similar document\n",
    "print(f\"Best match: {popular_songs.loc[best_match_idx]}\")"
   ]
  }
 ],
 "metadata": {
  "kernelspec": {
   "display_name": "Python 3",
   "language": "python",
   "name": "python3"
  },
  "language_info": {
   "codemirror_mode": {
    "name": "ipython",
    "version": 3
   },
   "file_extension": ".py",
   "mimetype": "text/x-python",
   "name": "python",
   "nbconvert_exporter": "python",
   "pygments_lexer": "ipython3",
   "version": "3.11.9"
  }
 },
 "nbformat": 4,
 "nbformat_minor": 5
}
